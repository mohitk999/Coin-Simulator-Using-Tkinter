{
 "cells": [
  {
   "cell_type": "code",
   "execution_count": null,
   "id": "9eec6d4a",
   "metadata": {},
   "outputs": [],
   "source": [
    "#coin Simulator \n",
    "import tkinter as tk\n",
    "from tkinter import *\n",
    "from PIL import ImageTk,Image\n",
    "import random\n",
    "root =tk.Tk()\n",
    "root.geometry ('500x400+300+200')\n",
    "root.title (\"Coin Simulator \")\n",
    "root.configure(bg='Orange')\n",
    "lx=Label(root, font=\"arial 20 bold \",bg='Green')\n",
    "lx.place(x=215,y=15)\n",
    "\n",
    "\n",
    "\n",
    "def start():\n",
    "    l=[\"Head\",\"Tail\"]\n",
    "    res=random.choice(l)\n",
    "    if res==\"Head\":\n",
    "        lx.configure(text=res)\n",
    "        img1=Image.open(\"Head.jpg\")\n",
    "        res1=img1.resize((150,140))\n",
    "        org1=ImageTk.PhotoImage(res1)\n",
    "        l1=Label(root,image=org1)\n",
    "        l1.image =org1\n",
    "        l1.place(x=300,y=80)\n",
    "\n",
    "    elif res==\"Tail\":\n",
    "        lx.configure(text=res)\n",
    "        img1=Image.open(\"Tail.jpg\")\n",
    "        res1=img1.resize((150,140))\n",
    "        org1=ImageTk.PhotoImage(res1)\n",
    "        l1=Label(root,image=org1)\n",
    "        l1.image =org1\n",
    "        l1.place(x=300,y=80)\n",
    "        \n",
    "b1=Button(root,text=\"Flip Coin\" ,command=start)\n",
    "b1.place(x=200,y=150)\n",
    "b2=Button(root,text='Exit',command=root.destroy)\n",
    "b2.place(x=215,y=200)        \n",
    "root.mainloop()"
   ]
  },
  {
   "cell_type": "code",
   "execution_count": null,
   "id": "5f362c00",
   "metadata": {},
   "outputs": [],
   "source": []
  }
 ],
 "metadata": {
  "kernelspec": {
   "display_name": "Python 3",
   "language": "python",
   "name": "python3"
  },
  "language_info": {
   "codemirror_mode": {
    "name": "ipython",
    "version": 3
   },
   "file_extension": ".py",
   "mimetype": "text/x-python",
   "name": "python",
   "nbconvert_exporter": "python",
   "pygments_lexer": "ipython3",
   "version": "3.6.8"
  }
 },
 "nbformat": 4,
 "nbformat_minor": 5
}
